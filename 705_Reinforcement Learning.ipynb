{
 "cells": [
  {
   "cell_type": "code",
   "execution_count": 1,
   "id": "640d1382",
   "metadata": {},
   "outputs": [],
   "source": [
    "import numpy as np"
   ]
  },
  {
   "cell_type": "markdown",
   "id": "43024f66",
   "metadata": {},
   "source": [
    "# R Matrix\n"
   ]
  },
  {
   "cell_type": "code",
   "execution_count": 2,
   "id": "6dbf7c41",
   "metadata": {},
   "outputs": [],
   "source": [
    "R=np.matrix([[-1,-1,-1,-1,0,-1],\n",
    "            [-1,-1,-1,0,-1,100],\n",
    "            [-1,-1,-1,0,-1,-1],\n",
    "            [-1,0,0,-1,0,-1],\n",
    "            [-1,0,0,-1,-1,100],\n",
    "            [-1,0,-1,-1,0,100],\n",
    "            ])"
   ]
  },
  {
   "cell_type": "markdown",
   "id": "45f83905",
   "metadata": {},
   "source": [
    "# Q Matrix "
   ]
  },
  {
   "cell_type": "code",
   "execution_count": 3,
   "id": "d07b05fd",
   "metadata": {},
   "outputs": [],
   "source": [
    "Q=np.matrix(np.zeros([6,6]))\n"
   ]
  },
  {
   "cell_type": "markdown",
   "id": "25feff3e",
   "metadata": {},
   "source": [
    "# Gamma Learning Parameter "
   ]
  },
  {
   "cell_type": "code",
   "execution_count": 6,
   "id": "a8181532",
   "metadata": {},
   "outputs": [],
   "source": [
    "gamma=0.8"
   ]
  },
  {
   "cell_type": "markdown",
   "id": "0d93e096",
   "metadata": {},
   "source": [
    "# Initial state usually to be chosen at random "
   ]
  },
  {
   "cell_type": "code",
   "execution_count": 7,
   "id": "0c5131b6",
   "metadata": {},
   "outputs": [],
   "source": [
    "initial_state=1"
   ]
  },
  {
   "cell_type": "markdown",
   "id": "58372e26",
   "metadata": {},
   "source": [
    "# This funcion returns all available actiona in the state given as an argument"
   ]
  },
  {
   "cell_type": "code",
   "execution_count": 12,
   "id": "5335d1ac",
   "metadata": {},
   "outputs": [],
   "source": [
    "def available_actions(state):\n",
    "    current_state_row=R[state,]\n",
    "    av_act=np.where(current_state_row>=0)[1]\n",
    "    return av_act"
   ]
  },
  {
   "cell_type": "markdown",
   "id": "7e6159db",
   "metadata": {},
   "source": [
    "#  Get available actions in the current state\n"
   ]
  },
  {
   "cell_type": "code",
   "execution_count": 13,
   "id": "3976b1db",
   "metadata": {},
   "outputs": [],
   "source": [
    "available_act=available_actions(initial_state)"
   ]
  },
  {
   "cell_type": "markdown",
   "id": "a0a2cdab",
   "metadata": {},
   "source": [
    "# This function chosen at random which action to be performed "
   ]
  },
  {
   "cell_type": "code",
   "execution_count": 14,
   "id": "5230c9f0",
   "metadata": {},
   "outputs": [],
   "source": [
    "def simple_next_action(available_actions_range):\n",
    "    next_action=int(np.random.choice(available_act,1))\n",
    "    return  next_action"
   ]
  },
  {
   "cell_type": "markdown",
   "id": "f1b67729",
   "metadata": {},
   "source": [
    "# Sample next acion to be performed"
   ]
  },
  {
   "cell_type": "code",
   "execution_count": 15,
   "id": "781d875b",
   "metadata": {},
   "outputs": [],
   "source": [
    "action=simple_next_action(available_act)"
   ]
  },
  {
   "cell_type": "markdown",
   "id": "afbfc704",
   "metadata": {},
   "source": [
    "# This function updates the Q matrix according to the path selected and the Q learning algorithm"
   ]
  },
  {
   "cell_type": "code",
   "execution_count": 19,
   "id": "36a9dc29",
   "metadata": {},
   "outputs": [],
   "source": [
    "def update(current_state,action,gamma):\n",
    "    max_index=np.where(Q[action,]==np.max(Q[action,]))[1]\n",
    "    \n",
    "    if max_index.shape[0]>1:\n",
    "        max_index=int(np.random.choice(max_index,size=1))\n",
    "    else:\n",
    "        max_index=int(max_index)\n",
    "    max_value=Q[action,max_index]\n",
    "    #Q learning formula\n",
    "    Q[current_state,action]=R[current_state,action] + gamma * max_value"
   ]
  },
  {
   "cell_type": "markdown",
   "id": "cbdd7208",
   "metadata": {},
   "source": [
    "# Update Q Matrix "
   ]
  },
  {
   "cell_type": "code",
   "execution_count": 20,
   "id": "b799f609",
   "metadata": {},
   "outputs": [],
   "source": [
    "update(initial_state,action,gamma)"
   ]
  },
  {
   "cell_type": "markdown",
   "id": "b7072752",
   "metadata": {},
   "source": [
    "#  Training \n",
    "\n",
    "Train over 10000 iterations.Re-itertate the process above."
   ]
  },
  {
   "cell_type": "code",
   "execution_count": 21,
   "id": "b8f63b9f",
   "metadata": {},
   "outputs": [],
   "source": [
    "for i in range(10000):\n",
    "    current_state=np.random.randint(0,int(Q.shape[0]))\n",
    "    available_act=available_actions(current_state)\n",
    "    action=simple_next_action(available_act)\n",
    "    update(current_state,action,gamma)"
   ]
  },
  {
   "cell_type": "markdown",
   "id": "212ac5fa",
   "metadata": {},
   "source": [
    "# Normalize the trained Q Matrix"
   ]
  },
  {
   "cell_type": "code",
   "execution_count": 23,
   "id": "91d22785",
   "metadata": {},
   "outputs": [
    {
     "name": "stdout",
     "output_type": "stream",
     "text": [
      "Trained Q Matrix\n",
      "[[  0.    0.    0.    0.   80.    0. ]\n",
      " [  0.    0.    0.   64.    0.  100. ]\n",
      " [  0.    0.    0.   64.    0.    0. ]\n",
      " [  0.   80.   51.2   0.   80.    0. ]\n",
      " [  0.   80.   51.2   0.    0.  100. ]\n",
      " [  0.   80.    0.    0.   80.  100. ]]\n"
     ]
    }
   ],
   "source": [
    "print(\"Trained Q Matrix\")\n",
    "print(Q/np.max(Q)*100)"
   ]
  },
  {
   "cell_type": "markdown",
   "id": "87f469a6",
   "metadata": {},
   "source": [
    "# Testing \n",
    "\n",
    "Goal state=5 best sequence path starting from 2->,3,1,5"
   ]
  },
  {
   "cell_type": "code",
   "execution_count": 32,
   "id": "f8c21719",
   "metadata": {},
   "outputs": [
    {
     "name": "stdout",
     "output_type": "stream",
     "text": [
      "Selected path:\n",
      "[1, 5]\n"
     ]
    }
   ],
   "source": [
    "current_state=1 # check for current_state=2\n",
    "steps=[current_state]\n",
    "\n",
    "while current_state!=5:\n",
    "    next_step_index=np.where(Q[current_state,]==np.max(Q[current_state,]))[1]\n",
    "    if next_step_index.shape[0]>1:\n",
    "        next_step_index=int(next_step_index)\n",
    "    else:\n",
    "        next_step_index=int(np.random.choice(next_step_index,size=1))\n",
    "    steps.append(next_step_index)\n",
    "    current_state=next_step_index\n",
    "#print slected sequence of steps\n",
    "print(\"Selected path:\")\n",
    "print(steps)"
   ]
  },
  {
   "cell_type": "code",
   "execution_count": null,
   "id": "637ce60c",
   "metadata": {},
   "outputs": [],
   "source": []
  }
 ],
 "metadata": {
  "kernelspec": {
   "display_name": "Python 3 (ipykernel)",
   "language": "python",
   "name": "python3"
  },
  "language_info": {
   "codemirror_mode": {
    "name": "ipython",
    "version": 3
   },
   "file_extension": ".py",
   "mimetype": "text/x-python",
   "name": "python",
   "nbconvert_exporter": "python",
   "pygments_lexer": "ipython3",
   "version": "3.9.12"
  }
 },
 "nbformat": 4,
 "nbformat_minor": 5
}

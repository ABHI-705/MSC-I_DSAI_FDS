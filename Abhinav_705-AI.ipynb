{
 "cells": [
  {
   "cell_type": "code",
   "execution_count": 1,
   "id": "96958f40",
   "metadata": {},
   "outputs": [
    {
     "name": "stdout",
     "output_type": "stream",
     "text": [
      "55\n"
     ]
    }
   ],
   "source": [
    "a=10\n",
    "b=45\n",
    "print(a+b)"
   ]
  },
  {
   "cell_type": "code",
   "execution_count": 2,
   "id": "907fd436",
   "metadata": {},
   "outputs": [],
   "source": [
    "# Python3 Program to print BFS traversal\n",
    "# from a given source vertex.BFS(int s)\n",
    "# traverses vertices reachable from s.\n",
    "from collections import defaultdict"
   ]
  },
  {
   "cell_type": "code",
   "execution_count": 3,
   "id": "ae284944",
   "metadata": {},
   "outputs": [],
   "source": [
    "# This class represents a directed graph \n",
    "# using adjacency list representation \n"
   ]
  },
  {
   "cell_type": "code",
   "execution_count": 4,
   "id": "4e684ec8",
   "metadata": {},
   "outputs": [
    {
     "name": "stdout",
     "output_type": "stream",
     "text": [
      "Following is Breadth First Search Traversal(starting from vertex 2)\n",
      "2 0 3 1 "
     ]
    }
   ],
   "source": [
    "class Graph:\n",
    "    #CONSTRUCTOR\n",
    "    def __init__(self):\n",
    "        # default dictionary to store graph \n",
    "        self.graph=defaultdict(list)\n",
    "# function to add an edge to graph \n",
    "    def addEdge(self,u,v):\n",
    "        self.graph[u].append(v)\n",
    "        \n",
    "        \n",
    "#function to print a BFS of graph\n",
    "    def BFS(self,s):\n",
    "        \n",
    "        # mark all the vertices as not visited\n",
    "        visited=[False]*(len(self.graph))\n",
    "        \n",
    "        # Create a queue for BFS\n",
    "        queue =[]\n",
    "        # mark the source node as \n",
    "        #visited and enqueue it\n",
    "        queue.append(s)\n",
    "        visited[s]=True\n",
    "        \n",
    "        while queue:\n",
    "            # Dequeue a vertex from\n",
    "            # queue and print it\n",
    "            s= queue.pop(0)\n",
    "            print(s,end=\" \")\n",
    "            \n",
    "            #get all adjacent vertices of the \n",
    "            # dequeued vertex s. I a adjacent \n",
    "            # has not been visited ,then mark it\n",
    "            # visited add enqueue it\n",
    "            for i in self.graph[s]:\n",
    "                if visited[i]==False:\n",
    "                    queue.append(i)\n",
    "                    visited[i]=True\n",
    "                    \n",
    "# Driver code\n",
    "# Create a graph given in \n",
    "# the above diagram\n",
    "g=Graph()\n",
    "g.addEdge(0,1)\n",
    "g.addEdge(0,2)\n",
    "g.addEdge(1,2)\n",
    "g.addEdge(2,0)\n",
    "g.addEdge(2,3)\n",
    "g.addEdge(3,3)\n",
    "\n",
    "print(\"Following is Breadth First Search Traversal\" \"(starting from vertex 2)\")\n",
    "g.BFS(2)\n",
    "                    \n",
    "                "
   ]
  },
  {
   "cell_type": "code",
   "execution_count": 5,
   "id": "4498b313",
   "metadata": {},
   "outputs": [],
   "source": [
    "from collections import defaultdict"
   ]
  },
  {
   "cell_type": "code",
   "execution_count": 6,
   "id": "a8bd5ca1",
   "metadata": {},
   "outputs": [
    {
     "name": "stdout",
     "output_type": "stream",
     "text": [
      "Following is Depth First Search Traversal(starting from vertex 2)\n",
      "2\n",
      "0\n",
      "1\n",
      "3\n"
     ]
    }
   ],
   "source": [
    "\n",
    "class Graph:\n",
    "    def __init__(self):\n",
    "        self.graph= defaultdict(list)\n",
    "    def addEdge(self,u,v):\n",
    "        self.graph[u].append(v)\n",
    "    def DFSUtill(self,v,visited):\n",
    "        visited[v]=True\n",
    "        print(v)\n",
    "        for i in self.graph[v]:\n",
    "            if visited [i]==False:\n",
    "                self.DFSUtill(i,visited)\n",
    "            \n",
    "\n",
    "    def DFS(self,v):\n",
    "        \n",
    "        visited=[False]*(len(self.graph))\n",
    "        \n",
    "        self.DFSUtill(v,visited)\n",
    "        \n",
    "g=Graph()\n",
    "g.addEdge(0,1)\n",
    "g.addEdge(0,2)\n",
    "g.addEdge(1,2)\n",
    "g.addEdge(2,0)\n",
    "g.addEdge(2,3)\n",
    "g.addEdge(3,3)\n",
    "\n",
    "print(\"Following is Depth First Search Traversal\" \"(starting from vertex 2)\")\n",
    "g.DFS(2)"
   ]
  },
  {
   "cell_type": "code",
   "execution_count": 7,
   "id": "3f009357",
   "metadata": {},
   "outputs": [
    {
     "name": "stdout",
     "output_type": "stream",
     "text": [
      "path found: ['A', 'F', 'G', 'I', 'J']\n"
     ]
    },
    {
     "data": {
      "text/plain": [
       "['A', 'F', 'G', 'I', 'J']"
      ]
     },
     "execution_count": 7,
     "metadata": {},
     "output_type": "execute_result"
    }
   ],
   "source": [
    "def aStarAlgo(start_node,stop_node):\n",
    "    open_set = set(start_node)\n",
    "    closed_set = set()\n",
    "    g = {}  #store distance from starting node\n",
    "    parents = {}    #parents contains an adjacency map of all nodes\n",
    "    #distance of starting\n",
    "    g[start_node] = 0\n",
    "    #start_node is root node i.e it has no parent nodes\n",
    "    #so start_node is \n",
    "    parents[start_node] = start_node\n",
    "    while len(open_set) > 0:\n",
    "        n = None\n",
    "        #node with lowest f() is found\n",
    "        for v in open_set:\n",
    "            if n == None or g[v] + heuristic(v) < g[n] + heuristic(n):\n",
    "                n = v\n",
    "        if n == stop_node or Graph_nodes[n] == None:\n",
    "            pass\n",
    "        else:\n",
    "            for (m,weight) in get_neighbors(n):\n",
    "                #nodes 'm' not in first and last set are added to first\n",
    "                #n is set its parent\n",
    "                if m not in open_set and m not in closed_set:\n",
    "                    open_set.add(m)\n",
    "                    parents[m] = n\n",
    "                    g[m] = g[n] + weight\n",
    "                #for each node m,compare its distance from start i.e g(m)to the\n",
    "                #from start through n node\n",
    "                else:\n",
    "                    if g[m] > g[n] + weight:\n",
    "                        #update g(m)\n",
    "                        g[m] = g[n] + weight\n",
    "                        #change parent of m to n\n",
    "                        parents[m] = n\n",
    "                        #if m in closed set, remove and add to open\n",
    "                        if m in closed_set:\n",
    "                            closed_set.remove(m)\n",
    "                            open_set.add(m)\n",
    "\n",
    "        if n == None:\n",
    "            print('path does not exist!')\n",
    "            return None\n",
    "\n",
    "        #if the current node is the stop_node\n",
    "        #then we begin reconstructin the path from it to the start_node\n",
    "        if n == stop_node:\n",
    "            path = []\n",
    "            while parents[n] !=n:\n",
    "                path.append(n)\n",
    "                n = parents[n]\n",
    "            path.append(start_node)\n",
    "            path.reverse()\n",
    "            print('path found: {}'.format(path))\n",
    "            return path\n",
    "        #remove n from the open_list, and add it to closed_list\n",
    "        #because all of his neighbors were inspected\n",
    "        open_set.remove(n)\n",
    "        closed_set.add(n)\n",
    "    print('path does not exist!')\n",
    "    return None\n",
    "\n",
    "#define fuction to return neighbor and its distance\n",
    "#from the passed node\n",
    "def get_neighbors(v):\n",
    "    if v in Graph_nodes:\n",
    "        return Graph_nodes[v]\n",
    "    else:\n",
    "        return None\n",
    "#for simplicity we all consider heuristic distances given\n",
    "#and this function returns heuristic distance for all nodes\n",
    "\n",
    "def heuristic(n):\n",
    "    H_dist = {\n",
    "        'A' : 11,\n",
    "        'B' : 6,\n",
    "        'c' : 5,\n",
    "        'D' : 7,\n",
    "        'E' : 3,\n",
    "        'F' : 6,\n",
    "        'G' : 5,\n",
    "        'H' : 3,\n",
    "        'I' : 1,\n",
    "        'J' : 0\n",
    "    }\n",
    "    return H_dist[n]\n",
    "\n",
    "#discribe your graph here\n",
    "Graph_nodes = {\n",
    "    'A' : [('B',6), ('F',3)],\n",
    "    'B' : [('A',6), ('C',3),('D',2)],\n",
    "    'C' : [('B',3), ('D',1),('E',5)],\n",
    "    'D' : [('B',2), ('C',1),('E',8)],\n",
    "    'E' : [('C',5), ('D',8),('I',5),('J',5)],\n",
    "    'F' : [('A',3), ('G',1),('H',7)],\n",
    "    'G' : [('F',1), ('I',3)],\n",
    "    'H' : [('F',7), ('I',2)],\n",
    "    'I' : [('A',5), ('G',3),('H',2),('J',3)]\n",
    "}\n",
    "aStarAlgo('A','J')\n",
    "    \n",
    "                            \n",
    "            \n",
    "            \n",
    "        \n"
   ]
  },
  {
   "cell_type": "code",
   "execution_count": null,
   "id": "5ccdccb3",
   "metadata": {},
   "outputs": [],
   "source": []
  }
 ],
 "metadata": {
  "kernelspec": {
   "display_name": "Python 3 (ipykernel)",
   "language": "python",
   "name": "python3"
  },
  "language_info": {
   "codemirror_mode": {
    "name": "ipython",
    "version": 3
   },
   "file_extension": ".py",
   "mimetype": "text/x-python",
   "name": "python",
   "nbconvert_exporter": "python",
   "pygments_lexer": "ipython3",
   "version": "3.9.12"
  }
 },
 "nbformat": 4,
 "nbformat_minor": 5
}
